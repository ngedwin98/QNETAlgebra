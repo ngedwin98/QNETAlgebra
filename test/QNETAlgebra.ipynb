{
 "cells": [
  {
   "cell_type": "code",
   "execution_count": 1,
   "metadata": {
    "collapsed": false
   },
   "outputs": [],
   "source": [
    "include(\"../src/QNETAlgebra.jl\")\n",
    "using QNETAlgebra"
   ]
  },
  {
   "cell_type": "code",
   "execution_count": 2,
   "metadata": {
    "collapsed": false
   },
   "outputs": [
    {
     "data": {
      "text/latex": [
       "$\\mathcal{H}_{a}$"
      ],
      "text/plain": [
       "QNETAlgebra.QSpace(PyObject ℌₐ)"
      ]
     },
     "execution_count": 2,
     "metadata": {},
     "output_type": "execute_result"
    }
   ],
   "source": [
    "QSpace(\"a\")"
   ]
  },
  {
   "cell_type": "code",
   "execution_count": 3,
   "metadata": {
    "collapsed": false
   },
   "outputs": [
    {
     "data": {
      "text/latex": [
       "$\\hat{a}^{(a)}$"
      ],
      "text/plain": [
       "QNETAlgebra.QOperator(PyObject â⁽ᵃ⁾)"
      ]
     },
     "execution_count": 3,
     "metadata": {},
     "output_type": "execute_result"
    }
   ],
   "source": [
    "Destroy(QSpace(\"a\"))"
   ]
  },
  {
   "cell_type": "code",
   "execution_count": 25,
   "metadata": {
    "collapsed": false
   },
   "outputs": [
    {
     "data": {
      "text/latex": [
       "$- 0.333333333333333 i \\hat{a}^{(a)}$"
      ],
      "text/plain": [
       "PyObject -0.333333333333333⋅ⅈ * â⁽ᵃ⁾"
      ]
     },
     "execution_count": 25,
     "metadata": {},
     "output_type": "execute_result"
    }
   ],
   "source": [
    "QNETAlgebra.qoa[:Destroy](hs=QNETAlgebra.qha[:LocalSpace](\"a\"))/3im"
   ]
  },
  {
   "cell_type": "code",
   "execution_count": 23,
   "metadata": {
    "collapsed": false
   },
   "outputs": [
    {
     "data": {
      "text/latex": [
       "${\\rm SLH\\left(\\begin{pmatrix}\\mathbb{1}\\end{pmatrix}, \\begin{pmatrix}\\alpha + 1\\end{pmatrix}, \\frac{i}{2} \\left(- \\alpha + \\overline{\\alpha}\\right) + 1\\right)}$"
      ],
      "text/plain": [
       "PyObject SLH([[𝟙]], [[α + 1]], I*(-α + conjugate(α))/2 + 1)"
      ]
     },
     "execution_count": 23,
     "metadata": {},
     "output_type": "execute_result"
    }
   ],
   "source": [
    "QNETAlgebra.qca[:SLH]([Qid.o], [Qid.o], Qid.o)[:coherent_input](alpha)"
   ]
  },
  {
   "cell_type": "code",
   "execution_count": 6,
   "metadata": {
    "collapsed": false
   },
   "outputs": [
    {
     "ename": "LoadError",
     "evalue": "\u001b[91msyntax: invalid character \"◁\"\u001b[39m",
     "output_type": "error",
     "traceback": [
      "\u001b[91msyntax: invalid character \"◁\"\u001b[39m",
      ""
     ]
    }
   ],
   "source": [
    "x"
   ]
  },
  {
   "cell_type": "code",
   "execution_count": 4,
   "metadata": {
    "collapsed": false
   },
   "outputs": [
    {
     "data": {
      "text/plain": [
       "3"
      ]
     },
     "execution_count": 4,
     "metadata": {},
     "output_type": "execute_result"
    }
   ],
   "source": [
    "⊲ = 3"
   ]
  },
  {
   "cell_type": "code",
   "execution_count": 3,
   "metadata": {
    "collapsed": false
   },
   "outputs": [
    {
     "data": {
      "text/latex": [
       "$\\mathcal{H}_{A}$"
      ],
      "text/plain": [
       "QNETAlgebra.QSpace(PyObject ℌ_A)"
      ]
     },
     "execution_count": 3,
     "metadata": {},
     "output_type": "execute_result"
    }
   ],
   "source": [
    "QSpace(\"A\")"
   ]
  },
  {
   "cell_type": "code",
   "execution_count": 6,
   "metadata": {
    "collapsed": false
   },
   "outputs": [
    {
     "data": {
      "text/plain": [
       "QNETAlgebra.QSpace"
      ]
     },
     "execution_count": 6,
     "metadata": {},
     "output_type": "execute_result"
    }
   ],
   "source": [
    "Out[4] |> typeof"
   ]
  },
  {
   "cell_type": "code",
   "execution_count": 10,
   "metadata": {
    "collapsed": false
   },
   "outputs": [
    {
     "data": {
      "text/plain": [
       "(alpha, gamma, Delta)"
      ]
     },
     "execution_count": 10,
     "metadata": {},
     "output_type": "execute_result"
    }
   ],
   "source": [
    "using SymPy\n",
    "alpha, gamma, Delta = symbols(\"alpha, gamma, Delta\")"
   ]
  },
  {
   "cell_type": "code",
   "execution_count": 13,
   "metadata": {
    "collapsed": false
   },
   "outputs": [
    {
     "data": {
      "text/plain": [
       "3"
      ]
     },
     "metadata": {},
     "output_type": "display_data"
    }
   ],
   "source": [
    "foo = display(X(3,2))"
   ]
  },
  {
   "cell_type": "code",
   "execution_count": 18,
   "metadata": {
    "collapsed": false
   },
   "outputs": [
    {
     "data": {
      "text/plain": [
       "3"
      ]
     },
     "metadata": {},
     "output_type": "display_data"
    },
    {
     "data": {
      "text/plain": []
     },
     "execution_count": 18,
     "metadata": {},
     "output_type": "execute_result"
    }
   ],
   "source": [
    "X(3,2)"
   ]
  },
  {
   "cell_type": "code",
   "execution_count": 2,
   "metadata": {
    "collapsed": false
   },
   "outputs": [
    {
     "data": {
      "text/plain": [
       "3"
      ]
     },
     "execution_count": 2,
     "metadata": {},
     "output_type": "execute_result"
    }
   ],
   "source": [
    "import Base.display, Base.show\n",
    "\n",
    "type X\n",
    "    val::Number\n",
    "    val2::Number\n",
    "end\n",
    "show(io::IO, mime::MIME{Symbol(\"text/plain\")}, x::X) = print(io, x.val)\n",
    "X(3,2)"
   ]
  },
  {
   "cell_type": "code",
   "execution_count": 17,
   "metadata": {
    "collapsed": false
   },
   "outputs": [
    {
     "data": {
      "text/latex": [
       "$\\mathcal{H}_{a}$"
      ],
      "text/plain": [
       "PyObject ℌₐ"
      ]
     },
     "execution_count": 17,
     "metadata": {},
     "output_type": "execute_result"
    }
   ],
   "source": [
    "Out[13]"
   ]
  },
  {
   "cell_type": "code",
   "execution_count": 14,
   "metadata": {
    "collapsed": false
   },
   "outputs": [],
   "source": [
    "space = QSpace(\"1\")\n",
    "a = Destroy(space)"
   ]
  },
  {
   "cell_type": "code",
   "execution_count": 19,
   "metadata": {
    "collapsed": false
   },
   "outputs": [
    {
     "name": "stdout",
     "output_type": "stream",
     "text": [
      "123\n"
     ]
    }
   ],
   "source": [
    "println(\"123\");"
   ]
  },
  {
   "cell_type": "code",
   "execution_count": 18,
   "metadata": {
    "collapsed": false
   },
   "outputs": [],
   "source": [
    "S = Qeye(2);"
   ]
  },
  {
   "cell_type": "code",
   "execution_count": 6,
   "metadata": {
    "collapsed": false
   },
   "outputs": [
    {
     "data": {
      "text/latex": [
       "$\\begin{pmatrix}\\hat{a}^{(1)} \\\\\\sqrt{\\gamma} \\hat{a}^{(1)}\\end{pmatrix}$"
      ],
      "text/plain": [
       "PyObject [[â⁽¹⁾], [√γ * â⁽¹⁾]]"
      ]
     },
     "metadata": {},
     "output_type": "display_data"
    },
    {
     "data": {
      "text/plain": []
     },
     "execution_count": 6,
     "metadata": {},
     "output_type": "execute_result"
    }
   ],
   "source": [
    "L = QMatrix([a, sqrt(gamma)*a])"
   ]
  },
  {
   "cell_type": "code",
   "execution_count": 7,
   "metadata": {
    "collapsed": false,
    "scrolled": true
   },
   "outputs": [
    {
     "data": {
      "text/latex": [
       "$\\Delta \\hat{a}^{(1)\\dagger} \\hat{a}^{(1)}$"
      ],
      "text/plain": [
       "PyObject Δ * â^(1)† â⁽¹⁾"
      ]
     },
     "metadata": {},
     "output_type": "display_data"
    },
    {
     "data": {
      "text/plain": []
     },
     "execution_count": 7,
     "metadata": {},
     "output_type": "execute_result"
    }
   ],
   "source": [
    "H = Delta*a'*a"
   ]
  },
  {
   "cell_type": "code",
   "execution_count": 8,
   "metadata": {
    "collapsed": false
   },
   "outputs": [
    {
     "data": {
      "text/latex": [
       "${\\rm SLH\\left(\\begin{pmatrix}1 & 0 \\\\0 & 1\\end{pmatrix}, \\begin{pmatrix}\\hat{a}^{(1)} \\\\\\sqrt{\\gamma} \\hat{a}^{(1)}\\end{pmatrix}, \\Delta \\hat{a}^{(1)\\dagger} \\hat{a}^{(1)}\\right)}$"
      ],
      "text/plain": [
       "PyObject SLH([[1, 0], [0, 1]], [[â⁽¹⁾], [√γ * â⁽¹⁾]], Δ * â^(1)† â⁽¹⁾)"
      ]
     },
     "metadata": {},
     "output_type": "display_data"
    },
    {
     "data": {
      "text/plain": []
     },
     "execution_count": 8,
     "metadata": {},
     "output_type": "execute_result"
    }
   ],
   "source": [
    "slh = SLH(S,L,H)"
   ]
  },
  {
   "cell_type": "code",
   "execution_count": 9,
   "metadata": {
    "collapsed": false
   },
   "outputs": [
    {
     "data": {
      "text/latex": [
       "${\\rm SLH\\left(\\begin{pmatrix}1 & 0 \\\\0 & 1\\end{pmatrix}, \\begin{pmatrix}\\hat{a}^{(1)} \\\\\\sqrt{2} \\hat{a}^{(1)}\\end{pmatrix}, 1.0 i \\hat{a}^{(1)\\dagger} \\hat{a}^{(1)}\\right)}$"
      ],
      "text/plain": [
       "PyObject SLH([[1, 0], [0, 1]], [[â⁽¹⁾], [√2 * â⁽¹⁾]], 1.0⋅ⅈ * â^(1)† â⁽¹⁾)"
      ]
     },
     "metadata": {},
     "output_type": "display_data"
    },
    {
     "data": {
      "text/plain": []
     },
     "execution_count": 9,
     "metadata": {},
     "output_type": "execute_result"
    }
   ],
   "source": [
    "substitute(slh; gamma=2,Delta=1im)"
   ]
  },
  {
   "cell_type": "code",
   "execution_count": null,
   "metadata": {
    "collapsed": true
   },
   "outputs": [],
   "source": [
    "≪"
   ]
  },
  {
   "cell_type": "code",
   "execution_count": 11,
   "metadata": {
    "collapsed": false
   },
   "outputs": [
    {
     "data": {
      "text/latex": [
       "${\\rm SLH\\left(\\begin{pmatrix}1 & 0 & 0 & 0 \\\\0 & 1 & 0 & 0 \\\\0 & 0 & 1 & 0 \\\\0 & 0 & 0 & 1\\end{pmatrix}, \\begin{pmatrix}2 \\hat{a}^{(1)} \\\\\\left(\\sqrt{\\alpha} + \\sqrt{\\gamma}\\right) \\hat{a}^{(1)} \\\\2 \\hat{a}^{(1)} \\\\2 \\sqrt{\\gamma} \\hat{a}^{(1)}\\end{pmatrix}, \\left(\\frac{i}{2} \\left(\\sqrt{\\alpha} \\overline{\\sqrt{\\gamma}} - \\sqrt{\\gamma} \\overline{\\sqrt{\\alpha}}\\right) + 3\\right) \\hat{a}^{(1)\\dagger} \\hat{a}^{(1)} + 3 \\Delta \\hat{a}^{(1)\\dagger} \\hat{a}^{(1)}\\right)}$"
      ],
      "text/plain": [
       "PyObject SLH([[1, 0, 0, 0], [0, 1, 0, 0], [0, 0, 1, 0], [0, 0, 0, 1]], [[2 * â⁽¹⁾], [(√α + √γ) * â⁽¹⁾], [2 * â⁽¹⁾], [2⋅√γ * â⁽¹⁾]], (I*(sqrt(α)*conjugate(sqrt(γ)) - sqrt(γ)*conjugate(sqrt(α)))/2 + 3) * â^(1)† â⁽¹⁾ + 3⋅Δ * â^(1)† â⁽¹⁾)"
      ]
     },
     "metadata": {},
     "output_type": "display_data"
    },
    {
     "data": {
      "text/plain": []
     },
     "execution_count": 11,
     "metadata": {},
     "output_type": "execute_result"
    }
   ],
   "source": [
    "slh2 = (slh ⊞ slh) ▷ (substitute(slh,Delta=3,gamma=alpha) ⊞ slh)"
   ]
  },
  {
   "cell_type": "code",
   "execution_count": 23,
   "metadata": {
    "collapsed": false
   },
   "outputs": [
    {
     "ename": "LoadError",
     "evalue": "\u001b[91mPyError (ccall(@pysym(:PyObject_Call), PyPtr, (PyPtr, PyPtr, PyPtr), o, arg, C_NULL)) <class 'TypeError'>\nTypeError('__init__() takes 2 positional arguments but 4 were given',)\n\u001b[39m",
     "output_type": "error",
     "traceback": [
      "\u001b[91mPyError (ccall(@pysym(:PyObject_Call), PyPtr, (PyPtr, PyPtr, PyPtr), o, arg, C_NULL)) <class 'TypeError'>\nTypeError('__init__() takes 2 positional arguments but 4 were given',)\n\u001b[39m",
      "",
      "Stacktrace:",
      " [1] \u001b[1mpyerr_check\u001b[22m\u001b[22m at \u001b[1m/home/edwin/.julia/v0.6/PyCall/src/exception.jl:56\u001b[22m\u001b[22m [inlined]",
      " [2] \u001b[1mpyerr_check\u001b[22m\u001b[22m at \u001b[1m/home/edwin/.julia/v0.6/PyCall/src/exception.jl:61\u001b[22m\u001b[22m [inlined]",
      " [3] \u001b[1mmacro expansion\u001b[22m\u001b[22m at \u001b[1m/home/edwin/.julia/v0.6/PyCall/src/exception.jl:81\u001b[22m\u001b[22m [inlined]",
      " [4] \u001b[1m#_pycall#66\u001b[22m\u001b[22m\u001b[1m(\u001b[22m\u001b[22m::Array{Any,1}, ::Function, ::PyCall.PyObject, ::PyCall.PyObject, ::Vararg{Any,N} where N\u001b[1m)\u001b[22m\u001b[22m at \u001b[1m/home/edwin/.julia/v0.6/PyCall/src/PyCall.jl:596\u001b[22m\u001b[22m",
      " [5] \u001b[1m_pycall\u001b[22m\u001b[22m\u001b[1m(\u001b[22m\u001b[22m::PyCall.PyObject, ::PyCall.PyObject, ::Vararg{Any,N} where N\u001b[1m)\u001b[22m\u001b[22m at \u001b[1m/home/edwin/.julia/v0.6/PyCall/src/PyCall.jl:584\u001b[22m\u001b[22m",
      " [6] \u001b[1m#pycall#70\u001b[22m\u001b[22m\u001b[1m(\u001b[22m\u001b[22m::Array{Any,1}, ::Function, ::PyCall.PyObject, ::Type{PyCall.PyAny}, ::PyCall.PyObject, ::Vararg{Any,N} where N\u001b[1m)\u001b[22m\u001b[22m at \u001b[1m/home/edwin/.julia/v0.6/PyCall/src/PyCall.jl:618\u001b[22m\u001b[22m",
      " [7] \u001b[1mpycall\u001b[22m\u001b[22m\u001b[1m(\u001b[22m\u001b[22m::PyCall.PyObject, ::Type{PyCall.PyAny}, ::PyCall.PyObject, ::Vararg{Any,N} where N\u001b[1m)\u001b[22m\u001b[22m at \u001b[1m/home/edwin/.julia/v0.6/PyCall/src/PyCall.jl:618\u001b[22m\u001b[22m",
      " [8] \u001b[1m#call#71\u001b[22m\u001b[22m\u001b[1m(\u001b[22m\u001b[22m::Array{Any,1}, ::PyCall.PyObject, ::PyCall.PyObject, ::Vararg{Any,N} where N\u001b[1m)\u001b[22m\u001b[22m at \u001b[1m/home/edwin/.julia/v0.6/PyCall/src/PyCall.jl:621\u001b[22m\u001b[22m",
      " [9] \u001b[1m(::PyCall.PyObject)\u001b[22m\u001b[22m\u001b[1m(\u001b[22m\u001b[22m::PyCall.PyObject, ::Vararg{Any,N} where N\u001b[1m)\u001b[22m\u001b[22m at \u001b[1m/home/edwin/.julia/v0.6/PyCall/src/PyCall.jl:621\u001b[22m\u001b[22m"
     ]
    }
   ],
   "source": [
    "QNETAlgebra.qca[:Feedback](slh.c, 1,0)"
   ]
  },
  {
   "cell_type": "code",
   "execution_count": null,
   "metadata": {
    "collapsed": true
   },
   "outputs": [],
   "source": []
  }
 ],
 "metadata": {
  "anaconda-cloud": {},
  "kernelspec": {
   "display_name": "Julia 0.6.0",
   "language": "julia",
   "name": "julia-0.6"
  },
  "language_info": {
   "file_extension": ".jl",
   "mimetype": "application/julia",
   "name": "julia",
   "version": "0.6.0"
  }
 },
 "nbformat": 4,
 "nbformat_minor": 0
}
