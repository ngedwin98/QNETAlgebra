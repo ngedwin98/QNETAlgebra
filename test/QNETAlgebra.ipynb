{
 "cells": [
  {
   "cell_type": "code",
   "execution_count": 1,
   "metadata": {
    "collapsed": false
   },
   "outputs": [],
   "source": [
    "include(\"../src/QNETAlgebra.jl\")\n",
    "using QNETAlgebra"
   ]
  },
  {
   "cell_type": "code",
   "execution_count": 2,
   "metadata": {
    "collapsed": false
   },
   "outputs": [
    {
     "data": {
      "text/latex": [
       "$\\mathcal{H}_{A}$"
      ],
      "text/plain": [
       "QNETAlgebra.QSpace(PyObject ℌ_A)"
      ]
     },
     "execution_count": 2,
     "metadata": {},
     "output_type": "execute_result"
    }
   ],
   "source": [
    "A = QSpace(\"A\")"
   ]
  },
  {
   "cell_type": "code",
   "execution_count": 3,
   "metadata": {
    "collapsed": false
   },
   "outputs": [
    {
     "data": {
      "text/latex": [
       "$\\mathcal{H}_{B}$"
      ],
      "text/plain": [
       "QNETAlgebra.QSpace(PyObject ℌ_B)"
      ]
     },
     "execution_count": 3,
     "metadata": {},
     "output_type": "execute_result"
    }
   ],
   "source": [
    "B = QSpace(\"B\", 10)"
   ]
  },
  {
   "cell_type": "code",
   "execution_count": 4,
   "metadata": {
    "collapsed": false
   },
   "outputs": [
    {
     "data": {
      "text/latex": [
       "$\\hat{a}^{(B)}$"
      ],
      "text/plain": [
       "QNETAlgebra.QOperator(PyObject â⁽ᴮ⁾)"
      ]
     },
     "execution_count": 4,
     "metadata": {},
     "output_type": "execute_result"
    }
   ],
   "source": [
    "a = QNETAlgebra.Destroy(A)\n",
    "b = QNETAlgebra.Destroy(B)"
   ]
  },
  {
   "cell_type": "code",
   "execution_count": 38,
   "metadata": {
    "collapsed": false
   },
   "outputs": [
    {
     "data": {
      "text/plain": [
       "Nullable{Int64}()"
      ]
     },
     "execution_count": 38,
     "metadata": {},
     "output_type": "execute_result"
    }
   ],
   "source": [
    "collect(QNETAlgebra.local_factors(QNETAlgebra.space(op)))[1] |> QNETAlgebra.dimension"
   ]
  },
  {
   "cell_type": "code",
   "execution_count": 41,
   "metadata": {
    "collapsed": false
   },
   "outputs": [
    {
     "data": {
      "text/plain": [
       "Nullable{Int64}(5)"
      ]
     },
     "execution_count": 41,
     "metadata": {},
     "output_type": "execute_result"
    }
   ],
   "source": [
    "collect(QNETAlgebra.local_factors(sp))[1] |> QNETAlgebra.dimension"
   ]
  },
  {
   "cell_type": "code",
   "execution_count": 5,
   "metadata": {
    "collapsed": false
   },
   "outputs": [
    {
     "data": {
      "text/plain": [
       "Nullable{Int64}()"
      ]
     },
     "execution_count": 5,
     "metadata": {},
     "output_type": "execute_result"
    }
   ],
   "source": [
    "QNETAlgebra.dimension(A)"
   ]
  },
  {
   "cell_type": "code",
   "execution_count": 6,
   "metadata": {
    "collapsed": false
   },
   "outputs": [
    {
     "data": {
      "text/plain": [
       "10"
      ]
     },
     "execution_count": 6,
     "metadata": {},
     "output_type": "execute_result"
    }
   ],
   "source": [
    "QNETAlgebra.dimension(B)"
   ]
  },
  {
   "cell_type": "code",
   "execution_count": 10,
   "metadata": {
    "collapsed": false
   },
   "outputs": [
    {
     "data": {
      "text/plain": [
       "3"
      ]
     },
     "execution_count": 10,
     "metadata": {},
     "output_type": "execute_result"
    }
   ],
   "source": [
    "QNETAlgebra.dimension(A)"
   ]
  },
  {
   "cell_type": "code",
   "execution_count": 11,
   "metadata": {
    "collapsed": false
   },
   "outputs": [
    {
     "data": {
      "text/latex": [
       "$\\hat{a}^{(\\text{fock})}$"
      ],
      "text/plain": [
       "QNETAlgebra.QOperator(PyObject â⁽ᶠᵒᶜᵏ⁾)"
      ]
     },
     "execution_count": 11,
     "metadata": {},
     "output_type": "execute_result"
    }
   ],
   "source": [
    "a = QNETAlgebra.Destroy(A)"
   ]
  },
  {
   "cell_type": "code",
   "execution_count": null,
   "metadata": {
    "collapsed": true
   },
   "outputs": [],
   "source": []
  },
  {
   "cell_type": "code",
   "execution_count": 11,
   "metadata": {
    "collapsed": false
   },
   "outputs": [
    {
     "ename": "LoadError",
     "evalue": "\u001b[91mPyError (ccall(@pysym(:PyIter_Next), PyPtr, (PyPtr,), o)) <class 'qnet.algebra.hilbert_space_algebra.BasisNotSetError'>\nBasisNotSetError('Hilbert space ℌ_fock has no defined basis',)\n  File \"/home/edwin/anaconda3/lib/python3.5/site-packages/qnet/algebra/hilbert_space_algebra.py\", line 319, in basis_states\n    for label in self.basis_labels:\n  File \"/home/edwin/anaconda3/lib/python3.5/site-packages/qnet/algebra/hilbert_space_algebra.py\", line 348, in basis_labels\n    \"Hilbert space %s has no defined basis\" % str(self))\n\u001b[39m",
     "output_type": "error",
     "traceback": [
      "\u001b[91mPyError (ccall(@pysym(:PyIter_Next), PyPtr, (PyPtr,), o)) <class 'qnet.algebra.hilbert_space_algebra.BasisNotSetError'>\nBasisNotSetError('Hilbert space ℌ_fock has no defined basis',)\n  File \"/home/edwin/anaconda3/lib/python3.5/site-packages/qnet/algebra/hilbert_space_algebra.py\", line 319, in basis_states\n    for label in self.basis_labels:\n  File \"/home/edwin/anaconda3/lib/python3.5/site-packages/qnet/algebra/hilbert_space_algebra.py\", line 348, in basis_labels\n    \"Hilbert space %s has no defined basis\" % str(self))\n\u001b[39m",
      "",
      "Stacktrace:",
      " [1] \u001b[1mpyerr_check\u001b[22m\u001b[22m at \u001b[1m/home/edwin/.julia/v0.6/PyCall/src/exception.jl:56\u001b[22m\u001b[22m [inlined]",
      " [2] \u001b[1mstart\u001b[22m\u001b[22m\u001b[1m(\u001b[22m\u001b[22m::PyCall.PyObject\u001b[1m)\u001b[22m\u001b[22m at \u001b[1m/home/edwin/.julia/v0.6/PyCall/src/conversions.jl:839\u001b[22m\u001b[22m",
      " [3] \u001b[1mcollect\u001b[22m\u001b[22m\u001b[1m(\u001b[22m\u001b[22m::Type{Any}, ::PyCall.PyObject\u001b[1m)\u001b[22m\u001b[22m at \u001b[1m/home/edwin/.julia/v0.6/PyCall/src/conversions.jl:862\u001b[22m\u001b[22m",
      " [4] \u001b[1m|>\u001b[22m\u001b[22m\u001b[1m(\u001b[22m\u001b[22m::PyCall.PyObject, ::Base.#collect\u001b[1m)\u001b[22m\u001b[22m at \u001b[1m./operators.jl:862\u001b[22m\u001b[22m"
     ]
    }
   ],
   "source": [
    "QNETAlgebra.pyo(A)[:basis_states] |> collect"
   ]
  },
  {
   "cell_type": "code",
   "execution_count": 3,
   "metadata": {
    "collapsed": false
   },
   "outputs": [
    {
     "data": {
      "text/plain": [
       "(r, η)"
      ]
     },
     "execution_count": 3,
     "metadata": {},
     "output_type": "execute_result"
    },
    {
     "name": "stderr",
     "output_type": "stream",
     "text": [
      "WARNING: Compat.UTF8String is deprecated, use String instead.\n",
      "  likely near /home/edwin/.julia/v0.6/IJulia/src/kernel.jl:31\n",
      "WARNING: Compat.UTF8String is deprecated, use String instead.\n",
      "  likely near /home/edwin/.julia/v0.6/IJulia/src/kernel.jl:31\n",
      "WARNING: Compat.UTF8String is deprecated, use String instead.\n",
      "  likely near /home/edwin/.julia/v0.6/IJulia/src/kernel.jl:31\n",
      "in jprint at /home/edwin/.julia/v0.6/SymPy/src/display.jl\n"
     ]
    }
   ],
   "source": [
    "using SymPy\n",
    "r, η = symbols(\"r, η\")"
   ]
  },
  {
   "cell_type": "code",
   "execution_count": 4,
   "metadata": {
    "collapsed": false
   },
   "outputs": [
    {
     "data": {
      "text/latex": [
       "$\\frac{i r}{4} \\left(-\\hat{a}^{(\\text{fock})} \\hat{a}^{(\\text{fock})} + \\hat{a}^{(\\text{fock})\\dagger} \\hat{a}^{(\\text{fock})\\dagger}\\right)$"
      ],
      "text/plain": [
       "QNETAlgebra.QOperator(PyObject I*r/4 * (-â⁽ᶠᵒᶜᵏ⁾ â⁽ᶠᵒᶜᵏ⁾ + â^(fock)† â^(fock)†))"
      ]
     },
     "execution_count": 4,
     "metadata": {},
     "output_type": "execute_result"
    }
   ],
   "source": [
    "H = 1im*r/4 * (a'*a' - a*a)"
   ]
  },
  {
   "cell_type": "code",
   "execution_count": 5,
   "metadata": {
    "collapsed": false
   },
   "outputs": [
    {
     "data": {
      "text/latex": [
       "$\\begin{pmatrix}\\sqrt{2} \\left(\\frac{\\sqrt{2} r}{4 \\sqrt{η}} - \\frac{\\sqrt{2} \\sqrt{η}}{2} \\hat{a}^{(\\text{fock})} \\hat{a}^{(\\text{fock})}\\right) \\\\\\sqrt{2} \\hat{a}^{(\\text{fock})}\\end{pmatrix}$"
      ],
      "text/plain": [
       "QNETAlgebra.QMatrix(PyObject [[√2 * (sqrt(2)*r/(4*sqrt(η)) - sqrt(2)*sqrt(η)/2 * â⁽ᶠᵒᶜᵏ⁾ â⁽ᶠᵒᶜᵏ⁾)], [√2 * â⁽ᶠᵒᶜᵏ⁾]])"
      ]
     },
     "execution_count": 5,
     "metadata": {},
     "output_type": "execute_result"
    }
   ],
   "source": [
    "L = sqrt(Sym(2))*QNETAlgebra.QMatrix([r/sqrt(8η)-sqrt(η/2)*a^2, a])"
   ]
  },
  {
   "cell_type": "code",
   "execution_count": 6,
   "metadata": {
    "collapsed": false
   },
   "outputs": [
    {
     "data": {
      "text/latex": [
       "$\\begin{pmatrix}1 & 0 \\\\0 & 1\\end{pmatrix}$"
      ],
      "text/plain": [
       "QNETAlgebra.QMatrix(PyObject [[1, 0], [0, 1]])"
      ]
     },
     "execution_count": 6,
     "metadata": {},
     "output_type": "execute_result"
    }
   ],
   "source": [
    "S = QNETAlgebra.Qeye(2)"
   ]
  },
  {
   "cell_type": "code",
   "execution_count": 7,
   "metadata": {
    "collapsed": false
   },
   "outputs": [
    {
     "data": {
      "text/latex": [
       "${\\rm SLH\\left(\\begin{pmatrix}\\mathbb{1} & \\mathbb{0} \\\\\\mathbb{0} & \\mathbb{1}\\end{pmatrix}, \\begin{pmatrix}\\sqrt{2} \\left(\\frac{\\sqrt{2} r}{4 \\sqrt{η}} - \\frac{\\sqrt{2} \\sqrt{η}}{2} \\hat{a}^{(\\text{fock})} \\hat{a}^{(\\text{fock})}\\right) \\\\\\sqrt{2} \\hat{a}^{(\\text{fock})}\\end{pmatrix}, \\frac{i r}{4} \\left(-\\hat{a}^{(\\text{fock})} \\hat{a}^{(\\text{fock})} + \\hat{a}^{(\\text{fock})\\dagger} \\hat{a}^{(\\text{fock})\\dagger}\\right)\\right)}$"
      ],
      "text/plain": [
       "QNETAlgebra.QCircuit(PyObject SLH([[𝟙, 0], [0, 𝟙]], [[√2 * (sqrt(2)*r/(4*sqrt(η)) - sqrt(2)*sqrt(η)/2 * â⁽ᶠᵒᶜᵏ⁾ â⁽ᶠᵒᶜᵏ⁾)], [√2 * â⁽ᶠᵒᶜᵏ⁾]], I*r/4 * (-â⁽ᶠᵒᶜᵏ⁾ â⁽ᶠᵒᶜᵏ⁾ + â^(fock)† â^(fock)†)))"
      ]
     },
     "execution_count": 7,
     "metadata": {},
     "output_type": "execute_result"
    }
   ],
   "source": [
    "slh = QNETAlgebra.SLH(S,L,H)"
   ]
  }
 ],
 "metadata": {
  "anaconda-cloud": {},
  "kernelspec": {
   "display_name": "Julia 0.6.0",
   "language": "julia",
   "name": "julia-0.6"
  },
  "language_info": {
   "file_extension": ".jl",
   "mimetype": "application/julia",
   "name": "julia",
   "version": "0.6.0"
  }
 },
 "nbformat": 4,
 "nbformat_minor": 0
}
