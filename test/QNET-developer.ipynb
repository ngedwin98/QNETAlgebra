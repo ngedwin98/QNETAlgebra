{
 "cells": [
  {
   "cell_type": "code",
   "execution_count": 1,
   "metadata": {
    "collapsed": true
   },
   "outputs": [],
   "source": [
    "from qnet.algebra import *\n",
    "import sympy as sp"
   ]
  },
  {
   "cell_type": "code",
   "execution_count": 2,
   "metadata": {
    "collapsed": false
   },
   "outputs": [
    {
     "data": {
      "text/latex": [
       "${\\rm SLH\\left(\\begin{pmatrix}-\\mathbb{1} & \\mathbb{0} \\\\\\mathbb{0} & -\\mathbb{1}\\end{pmatrix}, \\begin{pmatrix}- p_{0} + \\sqrt{2} \\sqrt{\\gamma_{p}} \\hat{a}^{(p)} \\\\\\sqrt{2} \\sqrt{\\gamma_{s}} \\hat{a}^{(s)}\\end{pmatrix}, \\frac{i}{2} \\left(\\sqrt{2} \\sqrt{\\gamma_{p}} p_{0} \\hat{a}^{(p)\\dagger} - \\sqrt{2} \\sqrt{\\gamma_{p}} p_{0} \\hat{a}^{(p)}\\right) - \\frac{i \\epsilon}{2} \\hat{a}^{(p)\\dagger} \\otimes \\hat{a}^{(s)} \\hat{a}^{(s)} + \\frac{i \\epsilon}{2} \\hat{a}^{(p)} \\otimes \\hat{a}^{(s)\\dagger} \\hat{a}^{(s)\\dagger}\\right)}$"
      ],
      "text/plain": [
       "SLH([[-𝟙, 0], [0, -𝟙]], [[-p₀ + sqrt(2)*sqrt(γ_p) * â⁽ᵖ⁾], [sqrt(2)*sqrt(γ_s) * â⁽ˢ⁾]], I/2 * (sqrt(2)*sqrt(γ_p)*p0 * â^(p)† - sqrt(2)*sqrt(γ_p)*p0 * â⁽ᵖ⁾) - I*ε/2 * â^(p)† ⊗ â⁽ˢ⁾ â⁽ˢ⁾ + I*ε/2 * â⁽ᵖ⁾ ⊗ â^(s)† â^(s)†)"
      ]
     },
     "execution_count": 2,
     "metadata": {},
     "output_type": "execute_result"
    }
   ],
   "source": [
    "s = Destroy(hs=\"s\")\n",
    "p = Destroy(hs=\"p\")\n",
    "gamma_p, gamma_s, epsilon, p0 = sp.symbols(\"gamma_p, gamma_s, epsilon, p0\", positive=True)\n",
    "\n",
    "S = -identity_matrix(2)\n",
    "L = [sp.sqrt(2*gamma_p)*p, sp.sqrt(2*gamma_s)*s]\n",
    "H = sp.I*epsilon/2 * p*s.dag()*s.dag() ; H = H + H.dag()\n",
    "OPO = SLH(S,L,H).coherent_input(p0, 0)\n",
    "OPO"
   ]
  },
  {
   "cell_type": "code",
   "execution_count": 3,
   "metadata": {
    "collapsed": false
   },
   "outputs": [
    {
     "data": {
      "text/latex": [
       "${\\rm SLH\\left(\\begin{pmatrix}-\\mathbb{1} & \\mathbb{0} \\\\\\mathbb{0} & -\\mathbb{1}\\end{pmatrix}, \\begin{pmatrix}- p_{0} + \\sqrt{2} \\sqrt{\\gamma_{p}} k \\hat{a}^{(p)} \\\\\\sqrt{2} \\sqrt{\\gamma_{s}} \\hat{a}^{(s)}\\end{pmatrix}, \\frac{i}{2} \\left(\\sqrt{2} \\sqrt{\\gamma_{p}} k p_{0} \\hat{a}^{(p)\\dagger} - \\sqrt{2} \\sqrt{\\gamma_{p}} k p_{0} \\hat{a}^{(p)}\\right) - \\frac{i \\epsilon}{2} k \\hat{a}^{(p)\\dagger} \\otimes \\hat{a}^{(s)} \\hat{a}^{(s)} + \\frac{i \\epsilon}{2} k \\hat{a}^{(p)} \\otimes \\hat{a}^{(s)\\dagger} \\hat{a}^{(s)\\dagger}\\right)}$"
      ],
      "text/plain": [
       "SLH([[-𝟙, 0], [0, -𝟙]], [[-p₀ + sqrt(2)*sqrt(γ_p)*k * â⁽ᵖ⁾], [sqrt(2)*sqrt(γ_s) * â⁽ˢ⁾]], I/2 * (sqrt(2)*sqrt(γ_p)*k*p0 * â^(p)† - sqrt(2)*sqrt(γ_p)*k*p0 * â⁽ᵖ⁾) - I*ε*k/2 * â^(p)† ⊗ â⁽ˢ⁾ â⁽ˢ⁾ + I*ε*k/2 * â⁽ᵖ⁾ ⊗ â^(s)† â^(s)†)"
      ]
     },
     "execution_count": 3,
     "metadata": {},
     "output_type": "execute_result"
    }
   ],
   "source": [
    "k = sp.symbols(\"k\", positive=True)\n",
    "OPO_prelimit = OPO.substitute({gamma_p : k**2*gamma_p, epsilon : k*epsilon})\n",
    "OPO_prelimit"
   ]
  },
  {
   "cell_type": "code",
   "execution_count": 4,
   "metadata": {
    "collapsed": false
   },
   "outputs": [
    {
     "data": {
      "text/latex": [
       "$- \\frac{\\sqrt{2}}{2 \\gamma_{p}} \\hat{\\Pi}_{1}^{(p)} - \\frac{\\sqrt{6}}{6 \\gamma_{p}} \\hat{\\Pi}_{2}^{(p)} - \\frac{\\sqrt{3}}{6 \\gamma_{p}} \\hat{\\Pi}_{3}^{(p)} - \\frac{\\sqrt{5}}{10 \\gamma_{p}} \\hat{\\Pi}_{4}^{(p)} - \\frac{\\sqrt{30}}{30 \\gamma_{p}} \\hat{\\Pi}_{5}^{(p)}$"
      ],
      "text/plain": [
       "-sqrt(2)/(2*γ_p) * Π̂₁⁽ᵖ⁾ - sqrt(6)/(6*γ_p) * Π̂₂⁽ᵖ⁾ - sqrt(3)/(6*γ_p) * Π̂₃⁽ᵖ⁾ - sqrt(5)/(10*γ_p) * Π̂₄⁽ᵖ⁾ - sqrt(30)/(30*γ_p) * Π̂₅⁽ᵖ⁾"
      ]
     },
     "execution_count": 4,
     "metadata": {},
     "output_type": "execute_result"
    }
   ],
   "source": [
    "try_adiabatic_elimination(OPO_prelimit, k=k)"
   ]
  },
  {
   "cell_type": "code",
   "execution_count": null,
   "metadata": {
    "collapsed": true
   },
   "outputs": [],
   "source": []
  }
 ],
 "metadata": {
  "anaconda-cloud": {},
  "kernelspec": {
   "display_name": "Python [conda env:python3]",
   "language": "python",
   "name": "conda-env-python3-py"
  },
  "language_info": {
   "codemirror_mode": {
    "name": "ipython",
    "version": 3
   },
   "file_extension": ".py",
   "mimetype": "text/x-python",
   "name": "python",
   "nbconvert_exporter": "python",
   "pygments_lexer": "ipython3",
   "version": "3.6.0"
  }
 },
 "nbformat": 4,
 "nbformat_minor": 1
}
