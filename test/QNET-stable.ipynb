{
 "cells": [
  {
   "cell_type": "code",
   "execution_count": 16,
   "metadata": {
    "collapsed": false
   },
   "outputs": [],
   "source": [
    "from qnet.algebra.operator_algebra import Destroy, identity_matrix\n",
    "from qnet.algebra.circuit_algebra import SLH, try_adiabatic_elimination, prepare_adiabatic_limit\n",
    "import sympy as sp"
   ]
  },
  {
   "cell_type": "code",
   "execution_count": 17,
   "metadata": {
    "collapsed": false
   },
   "outputs": [
    {
     "data": {
      "text/latex": [
       "$\\left( \\begin{pmatrix} {\\rm -1} & {\\rm 0} \\\\ {\\rm 0} & {\\rm -1}\\end{pmatrix}, \\begin{pmatrix} {\\rm  - p_{0}} +  \\sqrt{2} \\sqrt{\\gamma_{p}} {a_{{{\\rm p}}}} \\\\  \\sqrt{2} \\sqrt{\\gamma_{s}} {a_{{{\\rm s}}}}\\end{pmatrix}, {\\rm  \\frac{i}{2} \\left({\\rm  \\sqrt{2} \\sqrt{\\gamma_{p}} p_{0} {a_{{{\\rm p}}}^\\dagger}} -  \\sqrt{2} \\sqrt{\\gamma_{p}} p_{0} {a_{{{\\rm p}}}}\\right)} -  \\frac{i \\epsilon}{2}  {a_{{{\\rm p}}}^\\dagger} {a_{{{\\rm s}}}} {a_{{{\\rm s}}}} +  \\frac{i \\epsilon}{2}  {a_{{{\\rm p}}}} {a_{{{\\rm s}}}^\\dagger} {a_{{{\\rm s}}}^\\dagger} \\right)$"
      ],
      "text/plain": [
       "SLH(Matrix([[-1, 0], [0, -1]]), Matrix([[OperatorPlus(ScalarTimesOperator(-p0, IdentityOperator), ScalarTimesOperator(sqrt(2)*sqrt(gamma_p), Destroy(LocalSpace('p', ''))))], [ScalarTimesOperator(sqrt(2)*sqrt(gamma_s), Destroy(LocalSpace('s', '')))]]), OperatorPlus(ScalarTimesOperator(I/2, OperatorPlus(ScalarTimesOperator(sqrt(2)*sqrt(gamma_p)*p0, Create(LocalSpace('p', ''))), ScalarTimesOperator(-sqrt(2)*sqrt(gamma_p)*p0, Destroy(LocalSpace('p', ''))))), ScalarTimesOperator(-I*epsilon/2, OperatorTimes(Create(LocalSpace('p', '')), Destroy(LocalSpace('s', '')), Destroy(LocalSpace('s', '')))), ScalarTimesOperator(I*epsilon/2, OperatorTimes(Destroy(LocalSpace('p', '')), Create(LocalSpace('s', '')), Create(LocalSpace('s', ''))))))"
      ]
     },
     "execution_count": 17,
     "metadata": {},
     "output_type": "execute_result"
    }
   ],
   "source": [
    "s = Destroy(hs=\"s\")\n",
    "p = Destroy(hs=\"p\")\n",
    "gamma_p, gamma_s, epsilon, p0 = sp.symbols(\"gamma_p, gamma_s, epsilon, p0\", positive=True)\n",
    "\n",
    "S = -identity_matrix(2)\n",
    "L = [sp.sqrt(2*gamma_p)*p, sp.sqrt(2*gamma_s)*s]\n",
    "H = sp.I*epsilon/2 * p*s.dag()*s.dag() ; H = H + H.dag()\n",
    "OPO = SLH(S,L,H).coherent_input(p0, 0)\n",
    "OPO"
   ]
  },
  {
   "cell_type": "code",
   "execution_count": 18,
   "metadata": {
    "collapsed": false
   },
   "outputs": [
    {
     "data": {
      "text/latex": [
       "$\\left( \\begin{pmatrix} {\\rm -1} & {\\rm 0} \\\\ {\\rm 0} & {\\rm -1}\\end{pmatrix}, \\begin{pmatrix} {\\rm  - p_{0}} +  \\sqrt{2} \\sqrt{\\gamma_{p}} k {a_{{{\\rm p}}}} \\\\  \\sqrt{2} \\sqrt{\\gamma_{s}} {a_{{{\\rm s}}}}\\end{pmatrix}, {\\rm  \\frac{i}{2} \\left({\\rm  \\sqrt{2} \\sqrt{\\gamma_{p}} k p_{0} {a_{{{\\rm p}}}^\\dagger}} -  \\sqrt{2} \\sqrt{\\gamma_{p}} k p_{0} {a_{{{\\rm p}}}}\\right)} -  \\frac{i \\epsilon}{2} k  {a_{{{\\rm p}}}^\\dagger} {a_{{{\\rm s}}}} {a_{{{\\rm s}}}} +  \\frac{i \\epsilon}{2} k  {a_{{{\\rm p}}}} {a_{{{\\rm s}}}^\\dagger} {a_{{{\\rm s}}}^\\dagger} \\right)$"
      ],
      "text/plain": [
       "SLH(Matrix([[-1, 0], [0, -1]]), Matrix([[OperatorPlus(ScalarTimesOperator(-p0, IdentityOperator), ScalarTimesOperator(sqrt(2)*sqrt(gamma_p)*k, Destroy(LocalSpace('p', ''))))], [ScalarTimesOperator(sqrt(2)*sqrt(gamma_s), Destroy(LocalSpace('s', '')))]]), OperatorPlus(ScalarTimesOperator(I/2, OperatorPlus(ScalarTimesOperator(sqrt(2)*sqrt(gamma_p)*k*p0, Create(LocalSpace('p', ''))), ScalarTimesOperator(-sqrt(2)*sqrt(gamma_p)*k*p0, Destroy(LocalSpace('p', ''))))), ScalarTimesOperator(-I*epsilon*k/2, OperatorTimes(Create(LocalSpace('p', '')), Destroy(LocalSpace('s', '')), Destroy(LocalSpace('s', '')))), ScalarTimesOperator(I*epsilon*k/2, OperatorTimes(Destroy(LocalSpace('p', '')), Create(LocalSpace('s', '')), Create(LocalSpace('s', ''))))))"
      ]
     },
     "execution_count": 18,
     "metadata": {},
     "output_type": "execute_result"
    }
   ],
   "source": [
    "k = sp.symbols(\"k\", positive=True)\n",
    "OPO_prelimit = OPO.substitute({gamma_p : k**2*gamma_p, epsilon : k*epsilon})\n",
    "OPO_prelimit"
   ]
  },
  {
   "cell_type": "code",
   "execution_count": 25,
   "metadata": {
    "collapsed": false
   },
   "outputs": [
    {
     "data": {
      "text/latex": [
       "${\\rm  - \\frac{p_{0}^{2}}{2}} -  \\gamma_{p} k^{2}  {a_{{{\\rm p}}}^\\dagger} {a_{{{\\rm p}}}} +  \\frac{\\epsilon k}{2}  {a_{{{\\rm p}}}^\\dagger} {a_{{{\\rm s}}}} {a_{{{\\rm s}}}} -  \\gamma_{s}  {a_{{{\\rm s}}}^\\dagger} {a_{{{\\rm s}}}} -  \\frac{\\epsilon k}{2}  {a_{{{\\rm p}}}} {a_{{{\\rm s}}}^\\dagger} {a_{{{\\rm s}}}^\\dagger}$"
      ],
      "text/plain": [
       "OperatorPlus(ScalarTimesOperator(-p0**2/2, IdentityOperator), ScalarTimesOperator(-gamma_p*k**2, OperatorTimes(Create(LocalSpace('p', '')), Destroy(LocalSpace('p', '')))), ScalarTimesOperator(epsilon*k/2, OperatorTimes(Create(LocalSpace('p', '')), Destroy(LocalSpace('s', '')), Destroy(LocalSpace('s', '')))), ScalarTimesOperator(-gamma_s, OperatorTimes(Create(LocalSpace('s', '')), Destroy(LocalSpace('s', '')))), ScalarTimesOperator(-epsilon*k/2, OperatorTimes(Destroy(LocalSpace('p', '')), Create(LocalSpace('s', '')), Create(LocalSpace('s', '')))))"
      ]
     },
     "execution_count": 25,
     "metadata": {},
     "output_type": "execute_result"
    }
   ],
   "source": [
    "prepare_adiabatic_limit(OPO_prelimit, k=k)[2]"
   ]
  },
  {
   "cell_type": "code",
   "execution_count": null,
   "metadata": {
    "collapsed": true
   },
   "outputs": [],
   "source": []
  }
 ],
 "metadata": {
  "anaconda-cloud": {},
  "kernelspec": {
   "display_name": "Python [conda env:qnet-stable]",
   "language": "python",
   "name": "conda-env-qnet-stable-py"
  },
  "language_info": {
   "codemirror_mode": {
    "name": "ipython",
    "version": 3
   },
   "file_extension": ".py",
   "mimetype": "text/x-python",
   "name": "python",
   "nbconvert_exporter": "python",
   "pygments_lexer": "ipython3",
   "version": "3.6.1"
  }
 },
 "nbformat": 4,
 "nbformat_minor": 1
}
